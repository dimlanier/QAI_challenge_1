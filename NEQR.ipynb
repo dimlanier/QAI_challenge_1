{
 "cells": [
  {
   "cell_type": "code",
   "execution_count": 1,
   "id": "7452bd14",
   "metadata": {},
   "outputs": [],
   "source": [
    "import sys\n",
    "sys.path.append('./QCNN_inference_pyc.zip')\n",
    "from QCNN_inference import qcnn_circuit, load_breastmnist_data"
   ]
  },
  {
   "cell_type": "code",
   "execution_count": 2,
   "id": "e8983377",
   "metadata": {},
   "outputs": [
    {
     "data": {
      "image/png": "[encoded data removed]",
      "text/plain": [
       "<Figure size 640x480 with 1 Axes>"
      ]
     },
     "metadata": {},
     "output_type": "display_data"
    }
   ],
   "source": [
    "# Load a small sample of BreastMNIST images (resized to 8×8)\n",
    "# Fetches 10 training and 10 test images\n",
    "x_train, y_train, x_test, y_test = load_breastmnist_data(num_train=10, num_test=10)\n",
    "\n",
    "# Select a single example for visualization and encoding\n",
    "features_sample = x_train[0]\n",
    "label = y_train[0]\n",
    "\n",
    "# Show the original image\n",
    "import matplotlib.pyplot as plt\n",
    "plt.imshow(features_sample.reshape(8, 8), cmap=\"gray\")\n",
    "#plt.imshow(features_sample.reshape(8, 8))\n",
    "plt.title(f\"Label: {label}\")\n",
    "plt.axis(\"off\")\n",
    "plt.show()\n"
   ]
  },
  {
   "cell_type": "code",
   "execution_count": 3,
   "id": "f98a8f84",
   "metadata": {},
   "outputs": [],
   "source": [
    "import numpy as np\n",
    "import matplotlib.pyplot as plt\n",
    "from qiskit import QuantumCircuit, ClassicalRegister\n",
    "from qiskit.circuit.library import XGate\n",
    "from qiskit_aer import AerSimulator\n",
    "from qiskit.compiler import transpile\n",
    "\n",
    "def encoder_neqr(features, color_bits=8):\n",
    "    \"\"\"\n",
    "    NEQR encoder - stores color as binary values in separate qubits\n",
    "    For 2^n x 2^n image: total qubits = 2n (position) + color_bits (color)\n",
    "    \"\"\"\n",
    "    num_pixels = len(features)\n",
    "    num_pos_qubits = int(np.ceil(np.log2(num_pixels)))\n",
    "    num_qubits = num_pos_qubits + color_bits\n",
    "    \n",
    "    qc = QuantumCircuit(num_qubits)\n",
    "    \n",
    "    # Qubit indices\n",
    "    color_qubits = list(range(color_bits))  # First 'color_bits' qubits for color\n",
    "    position_qubits = list(range(color_bits, num_qubits))  # Remaining for position\n",
    "    \n",
    "    # Initialize superposition for positions\n",
    "    qc.h(position_qubits)\n",
    "    \n",
    "    # Encode each pixel\n",
    "    for i, pixel_value in enumerate(features):\n",
    "        if pixel_value == 0:\n",
    "            continue\n",
    "            \n",
    "        # Convert pixel value to binary\n",
    "        binary_repr = format(pixel_value, f'0{color_bits}b')\n",
    "        \n",
    "        # Set control state for this position\n",
    "        control_state = format(i, f'0{num_pos_qubits}b')\n",
    "        \n",
    "        # Add X gates for control state (0->X, 1->no gate)\n",
    "        for j, bit in enumerate(reversed(control_state)):\n",
    "            if bit == '0':\n",
    "                qc.x(position_qubits[j])\n",
    "        \n",
    "        # Encode color bits using controlled-X gates\n",
    "        for color_idx, bit in enumerate(reversed(binary_repr)):\n",
    "            if bit == '1':\n",
    "                # Multi-controlled X gate to set this color qubit to |1⟩\n",
    "                control_qubits = position_qubits  # Control on position\n",
    "                target_qubit = color_qubits[color_idx]\n",
    "                \n",
    "                # Create multi-controlled X gate\n",
    "                mc_x = XGate().control(num_pos_qubits)\n",
    "                qc.append(mc_x, control_qubits + [target_qubit])\n",
    "        \n",
    "        # Uncompute control state\n",
    "        for j, bit in enumerate(reversed(control_state)):\n",
    "            if bit == '0':\n",
    "                qc.x(position_qubits[j])\n",
    "    \n",
    "    return qc, num_pos_qubits, color_bits\n",
    "\n"
   ]
  },
  {
   "cell_type": "code",
   "execution_count": 4,
   "id": "4039b5f0",
   "metadata": {},
   "outputs": [],
   "source": [
    "def decode_neqr(neqr_circuit, num_pos_qubits, color_bits, num_shots=1024):\n",
    "    \"\"\"\n",
    "    Corrected NEQR decoder that respects LSB-first encoding used by the encoder.\n",
    "    Aggregates measurements by weighted averaging (shots).\n",
    "    \"\"\"\n",
    "    \n",
    "    num_qubits = neqr_circuit.num_qubits\n",
    "    num_pixels = 2 ** num_pos_qubits\n",
    "\n",
    "    # Build measured circuit\n",
    "    measured = QuantumCircuit(num_qubits, num_qubits)\n",
    "    measured.compose(neqr_circuit, range(num_qubits), inplace=True)\n",
    "    measured.measure(range(num_qubits), range(num_qubits))\n",
    "\n",
    "    sim = AerSimulator()\n",
    "    transpiled = transpile(measured, sim)\n",
    "    result = sim.run(transpiled, shots=num_shots).result()\n",
    "    counts = result.get_counts()\n",
    "\n",
    "    # Accumulators\n",
    "    color_sums = np.zeros(num_pixels, dtype=float)\n",
    "    shot_counts = np.zeros(num_pixels, dtype=int)\n",
    "\n",
    "    for bitstring, cnt in counts.items():\n",
    "        # Make string indexed by qubit index: all_bits[i] is qubit i\n",
    "        all_bits = bitstring[::-1]\n",
    "\n",
    "        # color and position slices (LSB-first because encoder used reversed(...))\n",
    "        color_bits_str_lsb_first = all_bits[:color_bits]\n",
    "        pos_bits_str_lsb_first = all_bits[color_bits:color_bits + num_pos_qubits]\n",
    "        \n",
    "\n",
    "\n",
    "        # Convert to integers: reverse substring to MSB-first before int(...)\n",
    "        color_value = int(color_bits_str_lsb_first[::-1], 2) if color_bits > 0 else 0\n",
    "        position = int(pos_bits_str_lsb_first[::-1], 2) if num_pos_qubits > 0 else 0\n",
    "\n",
    "        if position < num_pixels:\n",
    "            color_sums[position] += color_value * cnt\n",
    "            shot_counts[position] += cnt\n",
    "\n",
    "    # Compute weighted average (or 0 if never observed)\n",
    "    reconstructed = np.zeros(num_pixels, dtype=np.uint8)\n",
    "    for i in range(num_pixels):\n",
    "        if shot_counts[i] > 0:\n",
    "            reconstructed[i] = int(round(color_sums[i] / shot_counts[i]))\n",
    "        else:\n",
    "            reconstructed[i] = 0\n",
    "\n",
    "    return reconstructed\n"
   ]
  },
  {
   "cell_type": "code",
   "execution_count": 8,
   "id": "74e37f5d",
   "metadata": {},
   "outputs": [
    {
     "name": "stdout",
     "output_type": "stream",
     "text": [
      "Loading BreastMNIST dataset...\n",
      "Encoding the 8x8 image...\n",
      "NEQR circuit created with 14 qubits.\n",
      "Color bits: 8\n"
     ]
    }
   ],
   "source": [
    "# MedMNIST for the dataset\n",
    "from PIL import Image\n",
    "import medmnist\n",
    "from medmnist import BreastMNIST\n",
    "\n",
    "print(\"Loading BreastMNIST dataset...\")\n",
    "train_dataset = BreastMNIST(split=\"train\", download=True)\n",
    "\n",
    "# Select an image (e.g., the 10th image in the dataset)\n",
    "IMAGE_INDEX = 10\n",
    "pil_image, label = train_dataset[IMAGE_INDEX]\n",
    "\n",
    "# Pre-process the image for FRQI\n",
    "TARGET_SIZE = (8, 8) # 8x8 = 64 pixels = 2^6 pixels\n",
    "image_resized = pil_image.resize(TARGET_SIZE, Image.Resampling.LANCZOS)\n",
    "image_np = np.array(image_resized)\n",
    "features = image_np.flatten() # Flatten the 2D image to a 1D vector\n",
    "\n",
    "print(f\"Encoding the {TARGET_SIZE[0]}x{TARGET_SIZE[1]} image...\")\n",
    "neqr_circuit, num_pos_qubits, color_bits = encoder_neqr(features)\n",
    "print(f\"NEQR circuit created with {neqr_circuit.num_qubits} qubits.\")\n",
    "print(f\"Color bits: {color_bits}\")\n",
    "\n",
    "\n",
    "reconstructed_1024 = decode_neqr(neqr_circuit, num_pos_qubits, color_bits,  num_shots=1024)\n",
    "image_1024 = reconstructed_1024.reshape(TARGET_SIZE)\n",
    "\n",
    "\n",
    "reconstructed_8192 = decode_neqr(neqr_circuit, num_pos_qubits, color_bits,  num_shots=8192)\n",
    "image_8192 = reconstructed_8192.reshape(TARGET_SIZE)\n",
    "\n",
    "\n"
   ]
  },
  {
   "cell_type": "code",
   "execution_count": 9,
   "id": "cf79cbe1",
   "metadata": {},
   "outputs": [
    {
     "data": {
      "text/plain": [
       "(np.float64(-0.5), np.float64(7.5), np.float64(7.5), np.float64(-0.5))"
      ]
     },
     "execution_count": 9,
     "metadata": {},
     "output_type": "execute_result"
    },
    {
     "data": {
      "image/png": "[encoded data removed]",
      "text/plain": [
       "<Figure size 1800x600 with 3 Axes>"
      ]
     },
     "metadata": {},
     "output_type": "display_data"
    }
   ],
   "source": [
    "\n",
    "fig, axes = plt.subplots(1, 3, figsize=(18, 6))\n",
    "fig.suptitle(f'NEQR Encode/Decode of BreastMNIST Image #{IMAGE_INDEX}', fontsize=16)\n",
    "\n",
    "axes[0].imshow(image_np, vmin=0, vmax=255)\n",
    "axes[0].set_title(f\"Original {TARGET_SIZE[0]}x{TARGET_SIZE[1]} Image\")\n",
    "axes[0].axis('off')\n",
    "\n",
    "axes[1].imshow(image_1024, vmin=0, vmax=255)\n",
    "axes[1].set_title(\"Reconstructed (1024 Shots)\")\n",
    "axes[1].axis('off')\n",
    "\n",
    "axes[2].imshow(image_8192, vmin=0, vmax=255)\n",
    "axes[2].set_title(\"Reconstructed (8192 Shots)\")\n",
    "axes[2].axis('off')\n"
   ]
  },
  {
   "cell_type": "code",
   "execution_count": null,
   "id": "cac36112",
   "metadata": {},
   "outputs": [],
   "source": []
  }
 ],
 "metadata": {
  "kernelspec": {
   "display_name": "QAI_env",
   "language": "python",
   "name": "python3"
  },
  "language_info": {
   "codemirror_mode": {
    "name": "ipython",
    "version": 3
   },
   "file_extension": ".py",
   "mimetype": "text/x-python",
   "name": "python",
   "nbconvert_exporter": "python",
   "pygments_lexer": "ipython3",
   "version": "3.10.18"
  }
 },
 "nbformat": 4,
 "nbformat_minor": 5
}

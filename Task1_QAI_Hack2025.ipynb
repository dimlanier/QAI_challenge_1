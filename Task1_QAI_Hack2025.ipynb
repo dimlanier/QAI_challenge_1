{
 "cells": [
  {
   "cell_type": "markdown",
   "metadata": {},
   "source": [
    "# Pretrained QCNN – Hackathon 2025\n",
    "\n",
    "This notebook loads a pretrained Quantum Convolutional Neural Network (QCNN) trained on 20 BreastMNIST samples.\n",
    "\n",
    "You can:\n",
    "- Run inference on test samples\n",
    "- Verify model predictions\n",
    "- Modify test samples to assess performance\n",
    "\n",
    "**Model Details:**\n",
    "- Architecture: 6-qubit QCNN with 2 conv-pool layers + 1 dense SU(4)\n",
    "- Total trainable parameters: 51\n",
    "- Encoding: Amplitude\n",
    "- Training: 1 repetition on 20 samples (balanced training set)\n",
    "\n",
    "**Provided files:**\n",
    "- `requirements.txt`: precise versions of necessary packages \n",
    "- `qcnn_pretrained_breastmnist_n2.npz`: pretrained weights\n",
    "- `QCNN_inference_pyc.zip`: compiling circuit + computing probability\n",
    "- `Pretrained_QCNN_Hackathon2025.ipynb`: this notebook\n"
   ]
  },
  {
   "cell_type": "code",
   "execution_count": 12,
   "metadata": {},
   "outputs": [],
   "source": [
    "import sys\n",
    "\n",
    "sys.path.append('./QCNN_inference_pyc.zip')\n",
    "\n",
    "from QCNN_inference import compute_out, load_breastmnist_data\n"
   ]
  },
  {
   "cell_type": "code",
   "execution_count": 13,
   "metadata": {},
   "outputs": [],
   "source": [
    "import numpy as np\n",
    "\n",
    "# Load pretrained QCNN parameters\n",
    "data = np.load(\"qcnn_pretrained_breastmnist_n20.npz\")\n",
    "\n",
    "# Extract the weights\n",
    "w0 = data[\"weights_layer0\"]      # Layer 0 (18 params)\n",
    "w1 = data[\"weights_layer1\"]      # Layer 1 (18 params; 6 dummy if skip_first_layer=True)\n",
    "w_dense = data[\"dense_weights\"]  # Final SU(4) layer (15 params)\n",
    "\n",
    "weights = [w0, w1]\n",
    "weights_last = w_dense\n"
   ]
  },
  {
   "cell_type": "code",
   "execution_count": 14,
   "metadata": {},
   "outputs": [
    {
     "name": "stderr",
     "output_type": "stream",
     "text": [
      "100.0%\n"
     ]
    }
   ],
   "source": [
    "# Load test samples only (no training needed)\n",
    "_, _, x_test, y_test = load_breastmnist_data(num_train=0, num_test=10, rng=np.random.default_rng(42))\n"
   ]
  },
  {
   "cell_type": "code",
   "execution_count": 17,
   "metadata": {},
   "outputs": [
    {
     "name": "stdout",
     "output_type": "stream",
     "text": [
      "Prediction probability: 0.8359375\n",
      "Predicted label: 1, Ground truth: 1\n"
     ]
    }
   ],
   "source": [
    "# Pick one test sample\n",
    "sample = x_test[4]\n",
    "label = y_test[4]\n",
    "\n",
    "# Run the pretrained QCNN model on this sample\n",
    "p = compute_out(weights, weights_last, [sample], [label])\n",
    "print(f\"Prediction probability: {p[0]}\")\n",
    "print(f\"Predicted label: {int(p[0] > 0.5)}, Ground truth: {label}\")\n"
   ]
  },
  {
   "cell_type": "markdown",
   "metadata": {},
   "source": [
    "# The circuit is work as follow : \n",
    "-First layer is used for amplitude Embeddings wich convert classical data into quantum state this step could be depth expensive\n",
    "-Second Layer performs quantum parametrized convolution as it use two local operation allowing to mimic the local convolution that yield good result in classical CNN, the locality of these gates can be use as parameter to detect more or less spread features.\n",
    "-The third layer consist of forcing the model to compress the information, procedure known as pooling, as quantum unitary evolution is information preserving we need to make measurement to force the model give away some of the original image data. In the case of a well trained the discarded data is the one that is non explainatory of the outcome\n",
    "-Then the layers alternates between convolutives block and pooling block to give more expresivity to the model.\n"
   ]
  },
  {
   "cell_type": "code",
   "execution_count": null,
   "metadata": {},
   "outputs": [],
   "source": []
  }
 ],
 "metadata": {
  "kernelspec": {
   "display_name": "Qenv2",
   "language": "python",
   "name": "python3"
  },
  "language_info": {
   "codemirror_mode": {
    "name": "ipython",
    "version": 3
   },
   "file_extension": ".py",
   "mimetype": "text/x-python",
   "name": "python",
   "nbconvert_exporter": "python",
   "pygments_lexer": "ipython3",
   "version": "3.10.19"
  }
 },
 "nbformat": 4,
 "nbformat_minor": 2
}
